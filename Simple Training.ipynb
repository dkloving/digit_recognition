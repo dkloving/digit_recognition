{
 "cells": [
  {
   "cell_type": "markdown",
   "metadata": {},
   "source": [
    "Uses digit data from http://www.iapr-tc11.org/mediawiki/index.php/ICDAR_2005_Robust_Reading_Competitions"
   ]
  },
  {
   "cell_type": "markdown",
   "metadata": {},
   "source": [
    "# Load Data and Split"
   ]
  },
  {
   "cell_type": "code",
   "execution_count": 1,
   "metadata": {},
   "outputs": [],
   "source": [
    "import struct\n",
    "import numpy as np\n",
    "from matplotlib import pyplot as plt\n",
    "%matplotlib notebook"
   ]
  },
  {
   "cell_type": "code",
   "execution_count": 2,
   "metadata": {},
   "outputs": [],
   "source": [
    "# a function for reading mnist-format files\n",
    "\n",
    "def read_idx(filename):\n",
    "    with open(filename, 'rb') as f:\n",
    "        zero, data_type, dims = struct.unpack('>HBB', f.read(4))\n",
    "        shape = tuple(struct.unpack('>I', f.read(4))[0] for d in range(dims))\n",
    "        return np.frombuffer(f.read(), dtype=np.uint8).reshape(shape)"
   ]
  },
  {
   "cell_type": "code",
   "execution_count": 3,
   "metadata": {},
   "outputs": [
    {
     "data": {
      "text/plain": [
       "((988, 28, 28), (988,))"
      ]
     },
     "execution_count": 3,
     "metadata": {},
     "output_type": "execute_result"
    }
   ],
   "source": [
    "# read image and label files\n",
    "\n",
    "digits = read_idx('data/digit_images.bin')\n",
    "labels = read_idx('data/digit_labels.bin')\n",
    "\n",
    "digits.shape, labels.shape"
   ]
  },
  {
   "cell_type": "code",
   "execution_count": 4,
   "metadata": {},
   "outputs": [
    {
     "name": "stdout",
     "output_type": "stream",
     "text": [
      "10 [0, 1, 2, 3, 4, 5, 6, 7, 8, 9]\n"
     ]
    }
   ],
   "source": [
    "print(len(np.unique(labels)), [l for l in np.unique(labels)])"
   ]
  },
  {
   "cell_type": "code",
   "execution_count": 5,
   "metadata": {},
   "outputs": [
    {
     "data": {
      "image/png": "[encoded data removed]",
      "text/plain": [
       "<Figure size 864x864 with 4 Axes>"
      ]
     },
     "metadata": {
      "needs_background": "light"
     },
     "output_type": "display_data"
    }
   ],
   "source": [
    "# run multiple times to see different images\n",
    "\n",
    "fig, axes = plt.subplots(nrows=1, ncols=4, figsize=(12,12))\n",
    "\n",
    "for ax in axes:\n",
    "    idx = np.random.randint(0, len(digits))\n",
    "    ax.imshow(digits[idx], cmap ='inferno')\n",
    "    ax.set_title(labels[idx])\n",
    "    ax.axis('off')\n",
    "    \n",
    "fig.tight_layout()"
   ]
  },
  {
   "cell_type": "code",
   "execution_count": 6,
   "metadata": {},
   "outputs": [],
   "source": [
    "from sklearn.model_selection import train_test_split\n",
    "from sklearn.preprocessing import OneHotEncoder"
   ]
  },
  {
   "cell_type": "code",
   "execution_count": 7,
   "metadata": {},
   "outputs": [],
   "source": [
    "# one-hot-encode labels and reshape images\n",
    "labels_ohe = OneHotEncoder(categories='auto').fit_transform(labels[..., None])\n",
    "digits = digits[..., None]\n",
    "\n",
    "X_train, X_test, y_train, y_test = train_test_split(digits, labels_ohe)"
   ]
  },
  {
   "cell_type": "markdown",
   "metadata": {},
   "source": [
    "# Make Keras Model"
   ]
  },
  {
   "cell_type": "code",
   "execution_count": 8,
   "metadata": {},
   "outputs": [
    {
     "name": "stderr",
     "output_type": "stream",
     "text": [
      "Using TensorFlow backend.\n"
     ]
    }
   ],
   "source": [
    "from keras.models import Sequential\n",
    "from keras.layers import Conv2D, Dropout, Dense, InputLayer, Flatten, MaxPool2D, BatchNormalization"
   ]
  },
  {
   "cell_type": "code",
   "execution_count": 40,
   "metadata": {},
   "outputs": [
    {
     "name": "stdout",
     "output_type": "stream",
     "text": [
      "_________________________________________________________________\n",
      "Layer (type)                 Output Shape              Param #   \n",
      "=================================================================\n",
      "conv2d_10 (Conv2D)           (None, 28, 28, 16)        160       \n",
      "_________________________________________________________________\n",
      "dropout_5 (Dropout)          (None, 28, 28, 16)        0         \n",
      "_________________________________________________________________\n",
      "max_pooling2d_9 (MaxPooling2 (None, 14, 14, 16)        0         \n",
      "_________________________________________________________________\n",
      "conv2d_11 (Conv2D)           (None, 14, 14, 32)        4640      \n",
      "_________________________________________________________________\n",
      "dropout_6 (Dropout)          (None, 14, 14, 32)        0         \n",
      "_________________________________________________________________\n",
      "max_pooling2d_10 (MaxPooling (None, 7, 7, 32)          0         \n",
      "_________________________________________________________________\n",
      "conv2d_12 (Conv2D)           (None, 7, 7, 64)          18496     \n",
      "_________________________________________________________________\n",
      "dropout_7 (Dropout)          (None, 7, 7, 64)          0         \n",
      "_________________________________________________________________\n",
      "max_pooling2d_11 (MaxPooling (None, 3, 3, 64)          0         \n",
      "_________________________________________________________________\n",
      "conv2d_13 (Conv2D)           (None, 3, 3, 128)         73856     \n",
      "_________________________________________________________________\n",
      "dropout_8 (Dropout)          (None, 3, 3, 128)         0         \n",
      "_________________________________________________________________\n",
      "max_pooling2d_12 (MaxPooling (None, 1, 1, 128)         0         \n",
      "_________________________________________________________________\n",
      "flatten_2 (Flatten)          (None, 128)               0         \n",
      "_________________________________________________________________\n",
      "dense_2 (Dense)              (None, 10)                1290      \n",
      "=================================================================\n",
      "Total params: 98,442\n",
      "Trainable params: 98,442\n",
      "Non-trainable params: 0\n",
      "_________________________________________________________________\n"
     ]
    }
   ],
   "source": [
    "droprate = 0.25\n",
    "\n",
    "model = Sequential()\n",
    "model.add(InputLayer(input_shape=(28,28, 1)))\n",
    "\n",
    "model.add(Conv2D(16, (3,3), padding='same', activation='relu', kernel_regularizer='l2'))\n",
    "model.add(Dropout(droprate))\n",
    "model.add(MaxPool2D())\n",
    "\n",
    "model.add(Conv2D(32, (3,3), padding='same', activation='relu', kernel_regularizer='l2'))\n",
    "model.add(Dropout(droprate))\n",
    "model.add(MaxPool2D())\n",
    "\n",
    "model.add(Conv2D(64, (3,3), padding='same', activation='relu', kernel_regularizer='l2'))\n",
    "model.add(Dropout(droprate))\n",
    "model.add(MaxPool2D())\n",
    "\n",
    "model.add(Conv2D(128, (3,3), padding='same', activation='relu', kernel_regularizer='l2'))\n",
    "model.add(Dropout(droprate))\n",
    "model.add(MaxPool2D())\n",
    "\n",
    "model.add(Flatten())\n",
    "model.add(Dense(10, activation='softmax', kernel_regularizer='l2'))\n",
    "\n",
    "model.compile(optimizer='adam', loss='categorical_crossentropy', metrics=['acc'])\n",
    "model.summary()"
   ]
  },
  {
   "cell_type": "code",
   "execution_count": 41,
   "metadata": {
    "scrolled": false
   },
   "outputs": [
    {
     "name": "stdout",
     "output_type": "stream",
     "text": [
      "Train on 741 samples, validate on 247 samples\n",
      "Epoch 1/50\n",
      "741/741 [==============================] - 1s 2ms/step - loss: 13.9111 - acc: 0.2078 - val_loss: 13.9892 - val_acc: 0.1822\n",
      "Epoch 2/50\n",
      "741/741 [==============================] - 0s 537us/step - loss: 13.4312 - acc: 0.2105 - val_loss: 13.8118 - val_acc: 0.1822\n",
      "Epoch 3/50\n",
      "741/741 [==============================] - 0s 534us/step - loss: 13.3090 - acc: 0.2105 - val_loss: 13.7229 - val_acc: 0.1822\n",
      "Epoch 4/50\n",
      "741/741 [==============================] - 0s 539us/step - loss: 13.2344 - acc: 0.2105 - val_loss: 13.6602 - val_acc: 0.1822\n",
      "Epoch 5/50\n",
      "741/741 [==============================] - 0s 536us/step - loss: 13.1789 - acc: 0.2105 - val_loss: 13.6112 - val_acc: 0.1822\n",
      "Epoch 6/50\n",
      "741/741 [==============================] - 0s 537us/step - loss: 13.1343 - acc: 0.2105 - val_loss: 13.5706 - val_acc: 0.1822\n",
      "Epoch 7/50\n",
      "741/741 [==============================] - 0s 535us/step - loss: 13.0966 - acc: 0.2105 - val_loss: 13.5357 - val_acc: 0.1822\n",
      "Epoch 8/50\n",
      "741/741 [==============================] - 0s 538us/step - loss: 13.0638 - acc: 0.2105 - val_loss: 13.5050 - val_acc: 0.1822\n",
      "Epoch 9/50\n",
      "741/741 [==============================] - 0s 533us/step - loss: 13.0348 - acc: 0.2105 - val_loss: 13.4776 - val_acc: 0.1822\n",
      "Epoch 10/50\n",
      "741/741 [==============================] - 0s 536us/step - loss: 13.0088 - acc: 0.2105 - val_loss: 13.4394 - val_acc: 0.1822\n",
      "Epoch 11/50\n",
      "741/741 [==============================] - 0s 533us/step - loss: 12.9853 - acc: 0.2105 - val_loss: 13.3985 - val_acc: 0.1822\n",
      "Epoch 12/50\n",
      "741/741 [==============================] - 0s 537us/step - loss: 12.9640 - acc: 0.2105 - val_loss: 13.3424 - val_acc: 0.1822\n",
      "Epoch 13/50\n",
      "741/741 [==============================] - 0s 533us/step - loss: 12.9447 - acc: 0.2105 - val_loss: 13.2848 - val_acc: 0.1822\n",
      "Epoch 14/50\n",
      "741/741 [==============================] - 0s 532us/step - loss: 12.9270 - acc: 0.2105 - val_loss: 13.1901 - val_acc: 0.1822\n",
      "Epoch 15/50\n",
      "741/741 [==============================] - 0s 539us/step - loss: 12.9108 - acc: 0.2105 - val_loss: 13.0709 - val_acc: 0.1822\n",
      "Epoch 16/50\n",
      "741/741 [==============================] - 0s 537us/step - loss: 8.2512 - acc: 0.1970 - val_loss: 2.5029 - val_acc: 0.1498\n",
      "Epoch 17/50\n",
      "741/741 [==============================] - 0s 533us/step - loss: 2.4852 - acc: 0.1579 - val_loss: 2.4746 - val_acc: 0.1498\n",
      "Epoch 18/50\n",
      "741/741 [==============================] - 0s 536us/step - loss: 2.4387 - acc: 0.1808 - val_loss: 2.4425 - val_acc: 0.1822\n",
      "Epoch 19/50\n",
      "741/741 [==============================] - 0s 534us/step - loss: 2.3792 - acc: 0.2132 - val_loss: 2.4078 - val_acc: 0.1822\n",
      "Epoch 20/50\n",
      "741/741 [==============================] - 0s 533us/step - loss: 2.3555 - acc: 0.1970 - val_loss: 2.4024 - val_acc: 0.1822\n",
      "Epoch 21/50\n",
      "741/741 [==============================] - 0s 536us/step - loss: 2.3369 - acc: 0.2011 - val_loss: 2.3782 - val_acc: 0.1822\n",
      "Epoch 22/50\n",
      "741/741 [==============================] - 0s 534us/step - loss: 2.3340 - acc: 0.2105 - val_loss: 2.3642 - val_acc: 0.1822\n",
      "Epoch 23/50\n",
      "741/741 [==============================] - 0s 536us/step - loss: 2.3075 - acc: 0.2105 - val_loss: 2.3519 - val_acc: 0.1822\n",
      "Epoch 24/50\n",
      "741/741 [==============================] - 0s 534us/step - loss: 2.2973 - acc: 0.2119 - val_loss: 2.3449 - val_acc: 0.1822\n",
      "Epoch 25/50\n",
      "741/741 [==============================] - 0s 532us/step - loss: 2.2858 - acc: 0.2159 - val_loss: 2.3291 - val_acc: 0.2227\n",
      "Epoch 26/50\n",
      "741/741 [==============================] - 0s 535us/step - loss: 2.2665 - acc: 0.2362 - val_loss: 2.3175 - val_acc: 0.1903\n",
      "Epoch 27/50\n",
      "741/741 [==============================] - 0s 536us/step - loss: 2.2473 - acc: 0.2159 - val_loss: 2.3036 - val_acc: 0.2267\n",
      "Epoch 28/50\n",
      "741/741 [==============================] - 0s 535us/step - loss: 2.2315 - acc: 0.2510 - val_loss: 2.2906 - val_acc: 0.2227\n",
      "Epoch 29/50\n",
      "741/741 [==============================] - 0s 537us/step - loss: 2.1956 - acc: 0.2632 - val_loss: 2.2707 - val_acc: 0.2308\n",
      "Epoch 30/50\n",
      "741/741 [==============================] - 0s 539us/step - loss: 2.1632 - acc: 0.2632 - val_loss: 2.2697 - val_acc: 0.2510\n",
      "Epoch 31/50\n",
      "741/741 [==============================] - 0s 535us/step - loss: 2.1445 - acc: 0.2713 - val_loss: 2.2374 - val_acc: 0.2267\n",
      "Epoch 32/50\n",
      "741/741 [==============================] - 0s 532us/step - loss: 2.1177 - acc: 0.2780 - val_loss: 2.2121 - val_acc: 0.2753\n",
      "Epoch 33/50\n",
      "741/741 [==============================] - 0s 533us/step - loss: 2.0890 - acc: 0.2848 - val_loss: 2.2069 - val_acc: 0.2874\n",
      "Epoch 34/50\n",
      "741/741 [==============================] - 0s 536us/step - loss: 2.0395 - acc: 0.3144 - val_loss: 2.1774 - val_acc: 0.3117\n",
      "Epoch 35/50\n",
      "741/741 [==============================] - 0s 535us/step - loss: 2.0129 - acc: 0.3171 - val_loss: 2.0991 - val_acc: 0.2632\n",
      "Epoch 36/50\n",
      "741/741 [==============================] - 0s 536us/step - loss: 1.8963 - acc: 0.3873 - val_loss: 2.0010 - val_acc: 0.3563\n",
      "Epoch 37/50\n",
      "741/741 [==============================] - 0s 532us/step - loss: 1.8255 - acc: 0.3914 - val_loss: 1.9999 - val_acc: 0.3725\n",
      "Epoch 38/50\n",
      "741/741 [==============================] - 0s 535us/step - loss: 1.7395 - acc: 0.4453 - val_loss: 1.8721 - val_acc: 0.4818\n",
      "Epoch 39/50\n",
      "741/741 [==============================] - 0s 537us/step - loss: 1.6227 - acc: 0.4723 - val_loss: 1.9317 - val_acc: 0.3846\n",
      "Epoch 40/50\n",
      "741/741 [==============================] - 0s 536us/step - loss: 1.5628 - acc: 0.5047 - val_loss: 1.7045 - val_acc: 0.5061\n",
      "Epoch 41/50\n",
      "741/741 [==============================] - 0s 535us/step - loss: 1.4598 - acc: 0.5439 - val_loss: 1.6996 - val_acc: 0.5385\n",
      "Epoch 42/50\n",
      "741/741 [==============================] - 0s 534us/step - loss: 1.4793 - acc: 0.5331 - val_loss: 1.6062 - val_acc: 0.5344\n",
      "Epoch 43/50\n",
      "741/741 [==============================] - 0s 538us/step - loss: 1.3699 - acc: 0.5992 - val_loss: 1.5722 - val_acc: 0.5668\n",
      "Epoch 44/50\n",
      "741/741 [==============================] - 0s 536us/step - loss: 1.2764 - acc: 0.6370 - val_loss: 1.5824 - val_acc: 0.5304\n",
      "Epoch 45/50\n",
      "741/741 [==============================] - 0s 536us/step - loss: 1.3185 - acc: 0.5965 - val_loss: 1.5419 - val_acc: 0.6235\n",
      "Epoch 46/50\n",
      "741/741 [==============================] - 0s 533us/step - loss: 1.2745 - acc: 0.6383 - val_loss: 1.4988 - val_acc: 0.5749\n",
      "Epoch 47/50\n",
      "741/741 [==============================] - 0s 535us/step - loss: 1.2699 - acc: 0.6208 - val_loss: 1.5291 - val_acc: 0.6113\n",
      "Epoch 48/50\n",
      "741/741 [==============================] - 0s 537us/step - loss: 1.1246 - acc: 0.6856 - val_loss: 1.3695 - val_acc: 0.6397\n",
      "Epoch 49/50\n",
      "741/741 [==============================] - 0s 536us/step - loss: 1.2438 - acc: 0.6451 - val_loss: 1.5112 - val_acc: 0.5749\n",
      "Epoch 50/50\n",
      "741/741 [==============================] - 0s 540us/step - loss: 1.1788 - acc: 0.6599 - val_loss: 1.4390 - val_acc: 0.5992\n"
     ]
    }
   ],
   "source": [
    "history = model.fit(X_train, y_train, batch_size=16, epochs=50, validation_data=(X_test, y_test))"
   ]
  },
  {
   "cell_type": "code",
   "execution_count": 42,
   "metadata": {},
   "outputs": [
    {
     "name": "stdout",
     "output_type": "stream",
     "text": [
      "Train on 741 samples, validate on 247 samples\n",
      "Epoch 1/25\n",
      "741/741 [==============================] - 0s 153us/step - loss: 1.0851 - acc: 0.6775 - val_loss: 1.4559 - val_acc: 0.6316\n",
      "Epoch 2/25\n",
      "741/741 [==============================] - 0s 150us/step - loss: 1.0540 - acc: 0.7004 - val_loss: 1.3860 - val_acc: 0.6518\n",
      "Epoch 3/25\n",
      "741/741 [==============================] - 0s 148us/step - loss: 1.0561 - acc: 0.7099 - val_loss: 1.3550 - val_acc: 0.6478\n",
      "Epoch 4/25\n",
      "741/741 [==============================] - 0s 147us/step - loss: 0.9685 - acc: 0.7314 - val_loss: 1.3463 - val_acc: 0.6680\n",
      "Epoch 5/25\n",
      "741/741 [==============================] - 0s 146us/step - loss: 0.9659 - acc: 0.7220 - val_loss: 1.3233 - val_acc: 0.6802\n",
      "Epoch 6/25\n",
      "741/741 [==============================] - 0s 144us/step - loss: 0.9350 - acc: 0.7341 - val_loss: 1.2978 - val_acc: 0.6842\n",
      "Epoch 7/25\n",
      "741/741 [==============================] - 0s 145us/step - loss: 0.8679 - acc: 0.7692 - val_loss: 1.2917 - val_acc: 0.6964\n",
      "Epoch 8/25\n",
      "741/741 [==============================] - 0s 147us/step - loss: 0.8897 - acc: 0.7584 - val_loss: 1.2683 - val_acc: 0.6883\n",
      "Epoch 9/25\n",
      "741/741 [==============================] - 0s 144us/step - loss: 0.8992 - acc: 0.7517 - val_loss: 1.3018 - val_acc: 0.6761\n",
      "Epoch 10/25\n",
      "741/741 [==============================] - 0s 148us/step - loss: 0.8658 - acc: 0.7571 - val_loss: 1.3021 - val_acc: 0.6964\n",
      "Epoch 11/25\n",
      "741/741 [==============================] - 0s 144us/step - loss: 0.8307 - acc: 0.7773 - val_loss: 1.2745 - val_acc: 0.6761\n",
      "Epoch 12/25\n",
      "741/741 [==============================] - 0s 145us/step - loss: 0.9174 - acc: 0.7436 - val_loss: 1.2807 - val_acc: 0.6883\n",
      "Epoch 13/25\n",
      "741/741 [==============================] - 0s 143us/step - loss: 0.8755 - acc: 0.7706 - val_loss: 1.2976 - val_acc: 0.6559\n",
      "Epoch 14/25\n",
      "741/741 [==============================] - 0s 148us/step - loss: 0.8299 - acc: 0.7773 - val_loss: 1.2627 - val_acc: 0.7045\n",
      "Epoch 15/25\n",
      "741/741 [==============================] - 0s 144us/step - loss: 0.8240 - acc: 0.7692 - val_loss: 1.2469 - val_acc: 0.7004\n",
      "Epoch 16/25\n",
      "741/741 [==============================] - 0s 146us/step - loss: 0.8571 - acc: 0.7611 - val_loss: 1.2280 - val_acc: 0.7045\n",
      "Epoch 17/25\n",
      "741/741 [==============================] - 0s 146us/step - loss: 0.8549 - acc: 0.7787 - val_loss: 1.2436 - val_acc: 0.6964\n",
      "Epoch 18/25\n",
      "741/741 [==============================] - 0s 145us/step - loss: 0.8802 - acc: 0.7625 - val_loss: 1.2775 - val_acc: 0.7004\n",
      "Epoch 19/25\n",
      "741/741 [==============================] - 0s 144us/step - loss: 0.8160 - acc: 0.7854 - val_loss: 1.2634 - val_acc: 0.7166\n",
      "Epoch 20/25\n",
      "741/741 [==============================] - 0s 144us/step - loss: 0.8057 - acc: 0.8057 - val_loss: 1.2583 - val_acc: 0.7085\n",
      "Epoch 21/25\n",
      "741/741 [==============================] - 0s 144us/step - loss: 0.7400 - acc: 0.8138 - val_loss: 1.2409 - val_acc: 0.6964\n",
      "Epoch 22/25\n",
      "741/741 [==============================] - 0s 142us/step - loss: 0.7708 - acc: 0.8057 - val_loss: 1.2204 - val_acc: 0.7287\n",
      "Epoch 23/25\n",
      "741/741 [==============================] - 0s 143us/step - loss: 0.7364 - acc: 0.8084 - val_loss: 1.2097 - val_acc: 0.7085\n",
      "Epoch 24/25\n",
      "741/741 [==============================] - 0s 144us/step - loss: 0.7906 - acc: 0.8003 - val_loss: 1.2133 - val_acc: 0.7206\n",
      "Epoch 25/25\n",
      "741/741 [==============================] - 0s 145us/step - loss: 0.7721 - acc: 0.8165 - val_loss: 1.2372 - val_acc: 0.7085\n"
     ]
    }
   ],
   "source": [
    "history = model.fit(X_train, y_train, batch_size=64, epochs=25, validation_data=(X_test, y_test))"
   ]
  },
  {
   "cell_type": "code",
   "execution_count": 53,
   "metadata": {},
   "outputs": [
    {
     "name": "stdout",
     "output_type": "stream",
     "text": [
      "_________________________________________________________________\n",
      "Layer (type)                 Output Shape              Param #   \n",
      "=================================================================\n",
      "conv2d_19 (Conv2D)           (None, 28, 28, 16)        160       \n",
      "_________________________________________________________________\n",
      "max_pooling2d_17 (MaxPooling (None, 14, 14, 16)        0         \n",
      "_________________________________________________________________\n",
      "conv2d_20 (Conv2D)           (None, 14, 14, 32)        4640      \n",
      "_________________________________________________________________\n",
      "max_pooling2d_18 (MaxPooling (None, 7, 7, 32)          0         \n",
      "_________________________________________________________________\n",
      "conv2d_21 (Conv2D)           (None, 7, 7, 64)          18496     \n",
      "_________________________________________________________________\n",
      "max_pooling2d_19 (MaxPooling (None, 3, 3, 64)          0         \n",
      "_________________________________________________________________\n",
      "conv2d_22 (Conv2D)           (None, 3, 3, 128)         73856     \n",
      "_________________________________________________________________\n",
      "max_pooling2d_20 (MaxPooling (None, 1, 1, 128)         0         \n",
      "_________________________________________________________________\n",
      "conv2d_23 (Conv2D)           (None, 1, 1, 10)          1290      \n",
      "=================================================================\n",
      "Total params: 98,442\n",
      "Trainable params: 98,442\n",
      "Non-trainable params: 0\n",
      "_________________________________________________________________\n"
     ]
    }
   ],
   "source": [
    "model2 = Sequential()\n",
    "model2.add(InputLayer(input_shape=(28,28, 1)))\n",
    "\n",
    "model2.add(Conv2D(16, (3,3), padding='same', activation='relu', kernel_regularizer='l2'))\n",
    "model2.add(MaxPool2D())\n",
    "\n",
    "model2.add(Conv2D(32, (3,3), padding='same', activation='relu', kernel_regularizer='l2'))\n",
    "model2.add(MaxPool2D())\n",
    "\n",
    "model2.add(Conv2D(64, (3,3), padding='same', activation='relu', kernel_regularizer='l2'))\n",
    "model2.add(MaxPool2D())\n",
    "\n",
    "model2.add(Conv2D(128, (3,3), padding='same', activation='relu', kernel_regularizer='l2'))\n",
    "model2.add(MaxPool2D())\n",
    "\n",
    "model2.add(Conv2D(10, (1,1), padding='same', activation='sigmoid', kernel_regularizer='l2'))\n",
    "\n",
    "model2.summary()"
   ]
  },
  {
   "cell_type": "code",
   "execution_count": 54,
   "metadata": {},
   "outputs": [],
   "source": [
    "m1w = model.get_weights()"
   ]
  },
  {
   "cell_type": "code",
   "execution_count": 55,
   "metadata": {},
   "outputs": [],
   "source": [
    "m1w[-2] = m1w[-2].reshape((1, 1, 128, 10))"
   ]
  },
  {
   "cell_type": "code",
   "execution_count": 56,
   "metadata": {},
   "outputs": [
    {
     "name": "stdout",
     "output_type": "stream",
     "text": [
      "(3, 3, 1, 16)\n",
      "(16,)\n",
      "(3, 3, 16, 32)\n",
      "(32,)\n",
      "(3, 3, 32, 64)\n",
      "(64,)\n",
      "(3, 3, 64, 128)\n",
      "(128,)\n",
      "(1, 1, 128, 10)\n",
      "(10,)\n"
     ]
    }
   ],
   "source": [
    "for w in m1w:\n",
    "    print(w.shape)"
   ]
  },
  {
   "cell_type": "code",
   "execution_count": 57,
   "metadata": {},
   "outputs": [],
   "source": [
    "model2.set_weights(m1w)"
   ]
  },
  {
   "cell_type": "code",
   "execution_count": 62,
   "metadata": {},
   "outputs": [],
   "source": [
    "preds = model2.predict(X_test)"
   ]
  },
  {
   "cell_type": "code",
   "execution_count": 59,
   "metadata": {},
   "outputs": [],
   "source": [
    "preds = preds.squeeze()"
   ]
  },
  {
   "cell_type": "code",
   "execution_count": 60,
   "metadata": {},
   "outputs": [],
   "source": [
    "preds = np.argmax(preds, axis=-1)\n",
    "labs = np.argmax(y_test, axis=-1)"
   ]
  },
  {
   "cell_type": "code",
   "execution_count": 61,
   "metadata": {},
   "outputs": [
    {
     "data": {
      "text/plain": [
       "0.1280302906128604"
      ]
     },
     "execution_count": 61,
     "metadata": {},
     "output_type": "execute_result"
    }
   ],
   "source": [
    "np.mean(preds == labs)"
   ]
  },
  {
   "cell_type": "code",
   "execution_count": null,
   "metadata": {},
   "outputs": [],
   "source": []
  }
 ],
 "metadata": {
  "kernelspec": {
   "display_name": "Python 3",
   "language": "python",
   "name": "python3"
  },
  "language_info": {
   "codemirror_mode": {
    "name": "ipython",
    "version": 3
   },
   "file_extension": ".py",
   "mimetype": "text/x-python",
   "name": "python",
   "nbconvert_exporter": "python",
   "pygments_lexer": "ipython3",
   "version": "3.6.7"
  }
 },
 "nbformat": 4,
 "nbformat_minor": 2
}
